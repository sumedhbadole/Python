{
 "cells": [
  {
   "cell_type": "code",
   "execution_count": 1,
   "id": "bc703ada",
   "metadata": {},
   "outputs": [
    {
     "ename": "NameError",
     "evalue": "name 'Print' is not defined",
     "output_type": "error",
     "traceback": [
      "\u001b[1;31m---------------------------------------------------------------------------\u001b[0m",
      "\u001b[1;31mNameError\u001b[0m                                 Traceback (most recent call last)",
      "Cell \u001b[1;32mIn[1], line 2\u001b[0m\n\u001b[0;32m      1\u001b[0m A\u001b[38;5;241m=\u001b[39m\u001b[38;5;241m25\u001b[39m\n\u001b[1;32m----> 2\u001b[0m \u001b[43mPrint\u001b[49m(A)\n",
      "\u001b[1;31mNameError\u001b[0m: name 'Print' is not defined"
     ]
    }
   ],
   "source": [
    "A=25\n",
    "Print(A)"
   ]
  },
  {
   "cell_type": "code",
   "execution_count": 2,
   "id": "45e92504",
   "metadata": {},
   "outputs": [
    {
     "ename": "NameError",
     "evalue": "name 'Printf' is not defined",
     "output_type": "error",
     "traceback": [
      "\u001b[1;31m---------------------------------------------------------------------------\u001b[0m",
      "\u001b[1;31mNameError\u001b[0m                                 Traceback (most recent call last)",
      "Cell \u001b[1;32mIn[2], line 1\u001b[0m\n\u001b[1;32m----> 1\u001b[0m \u001b[43mPrintf\u001b[49m(A)\n",
      "\u001b[1;31mNameError\u001b[0m: name 'Printf' is not defined"
     ]
    }
   ],
   "source": [
    "Printf(A)"
   ]
  },
  {
   "cell_type": "code",
   "execution_count": 3,
   "id": "80e928eb",
   "metadata": {},
   "outputs": [],
   "source": [
    "A=24"
   ]
  },
  {
   "cell_type": "code",
   "execution_count": 4,
   "id": "cdf1a9a6",
   "metadata": {},
   "outputs": [
    {
     "ename": "NameError",
     "evalue": "name 'Print' is not defined",
     "output_type": "error",
     "traceback": [
      "\u001b[1;31m---------------------------------------------------------------------------\u001b[0m",
      "\u001b[1;31mNameError\u001b[0m                                 Traceback (most recent call last)",
      "Cell \u001b[1;32mIn[4], line 1\u001b[0m\n\u001b[1;32m----> 1\u001b[0m \u001b[43mPrint\u001b[49m(A)\n",
      "\u001b[1;31mNameError\u001b[0m: name 'Print' is not defined"
     ]
    }
   ],
   "source": [
    "Print(A)"
   ]
  },
  {
   "cell_type": "code",
   "execution_count": 5,
   "id": "d7b06dbc",
   "metadata": {},
   "outputs": [],
   "source": [
    "a=12"
   ]
  },
  {
   "cell_type": "code",
   "execution_count": 6,
   "id": "5fda2136",
   "metadata": {},
   "outputs": [
    {
     "ename": "NameError",
     "evalue": "name 'Print' is not defined",
     "output_type": "error",
     "traceback": [
      "\u001b[1;31m---------------------------------------------------------------------------\u001b[0m",
      "\u001b[1;31mNameError\u001b[0m                                 Traceback (most recent call last)",
      "Cell \u001b[1;32mIn[6], line 1\u001b[0m\n\u001b[1;32m----> 1\u001b[0m \u001b[43mPrint\u001b[49m(a)\n",
      "\u001b[1;31mNameError\u001b[0m: name 'Print' is not defined"
     ]
    }
   ],
   "source": [
    "Print(a)"
   ]
  },
  {
   "cell_type": "code",
   "execution_count": 7,
   "id": "4e9fe5a2",
   "metadata": {},
   "outputs": [],
   "source": [
    "b=23"
   ]
  },
  {
   "cell_type": "code",
   "execution_count": 8,
   "id": "782ac4d9",
   "metadata": {},
   "outputs": [
    {
     "name": "stdout",
     "output_type": "stream",
     "text": [
      "23\n"
     ]
    }
   ],
   "source": [
    "print(b)"
   ]
  },
  {
   "cell_type": "code",
   "execution_count": 9,
   "id": "66f4a68b",
   "metadata": {},
   "outputs": [],
   "source": [
    "b=a"
   ]
  },
  {
   "cell_type": "code",
   "execution_count": 10,
   "id": "d907159f",
   "metadata": {},
   "outputs": [
    {
     "name": "stdout",
     "output_type": "stream",
     "text": [
      "12\n"
     ]
    }
   ],
   "source": [
    "print(a)"
   ]
  },
  {
   "cell_type": "code",
   "execution_count": 11,
   "id": "65f7be69",
   "metadata": {},
   "outputs": [
    {
     "name": "stdout",
     "output_type": "stream",
     "text": [
      "<class 'int'>\n"
     ]
    }
   ],
   "source": [
    "print(type(a))"
   ]
  },
  {
   "cell_type": "code",
   "execution_count": 12,
   "id": "51f9433d",
   "metadata": {},
   "outputs": [],
   "source": [
    "_100a=100"
   ]
  },
  {
   "cell_type": "code",
   "execution_count": 13,
   "id": "ac9a7cd5",
   "metadata": {},
   "outputs": [
    {
     "name": "stdout",
     "output_type": "stream",
     "text": [
      "100\n"
     ]
    }
   ],
   "source": [
    "print(_100a)"
   ]
  },
  {
   "cell_type": "code",
   "execution_count": 14,
   "id": "fcfbecc8",
   "metadata": {},
   "outputs": [],
   "source": [
    "My_age = 31"
   ]
  },
  {
   "cell_type": "code",
   "execution_count": 15,
   "id": "b8f4b163",
   "metadata": {},
   "outputs": [
    {
     "name": "stdout",
     "output_type": "stream",
     "text": [
      "31\n"
     ]
    }
   ],
   "source": [
    "print(My_age)"
   ]
  },
  {
   "cell_type": "code",
   "execution_count": 16,
   "id": "d993d9c2",
   "metadata": {},
   "outputs": [],
   "source": [
    "##Important Topic"
   ]
  },
  {
   "cell_type": "code",
   "execution_count": 17,
   "id": "335cff99",
   "metadata": {},
   "outputs": [],
   "source": [
    "####Important Topic"
   ]
  },
  {
   "cell_type": "code",
   "execution_count": 21,
   "id": "6acbb726",
   "metadata": {},
   "outputs": [
    {
     "ename": "NameError",
     "evalue": "name 'Print' is not defined",
     "output_type": "error",
     "traceback": [
      "\u001b[1;31m---------------------------------------------------------------------------\u001b[0m",
      "\u001b[1;31mNameError\u001b[0m                                 Traceback (most recent call last)",
      "Cell \u001b[1;32mIn[21], line 5\u001b[0m\n\u001b[0;32m      2\u001b[0m Place \u001b[38;5;241m=\u001b[39m \u001b[38;5;124m'\u001b[39m\u001b[38;5;124mTop mentor\u001b[39m\u001b[38;5;124m'\u001b[39m\n\u001b[0;32m      3\u001b[0m Mode \u001b[38;5;241m=\u001b[39m \u001b[38;5;124m'\u001b[39m\u001b[38;5;124monline\u001b[39m\u001b[38;5;124m'\u001b[39m\n\u001b[1;32m----> 5\u001b[0m \u001b[43mPrint\u001b[49m(\u001b[38;5;124m'\u001b[39m\u001b[38;5;124mI am learning\u001b[39m\u001b[38;5;124m'\u001b[39m,Course,\u001b[38;5;124m'\u001b[39m\u001b[38;5;124mfrom\u001b[39m\u001b[38;5;124m'\u001b[39m,Place,\u001b[38;5;124m'\u001b[39m\u001b[38;5;124min\u001b[39m\u001b[38;5;124m'\u001b[39m,mode)\n",
      "\u001b[1;31mNameError\u001b[0m: name 'Print' is not defined"
     ]
    }
   ],
   "source": [
    "Course = 'Data science'\n",
    "Place = 'Top mentor'\n",
    "Mode = 'online'\n",
    "\n",
    "Print('I am learning',Course,'from',Place,'in',mode)"
   ]
  },
  {
   "cell_type": "code",
   "execution_count": 20,
   "id": "25f5e74a",
   "metadata": {},
   "outputs": [
    {
     "ename": "NameError",
     "evalue": "name 'Print' is not defined",
     "output_type": "error",
     "traceback": [
      "\u001b[1;31m---------------------------------------------------------------------------\u001b[0m",
      "\u001b[1;31mNameError\u001b[0m                                 Traceback (most recent call last)",
      "Cell \u001b[1;32mIn[20], line 1\u001b[0m\n\u001b[1;32m----> 1\u001b[0m \u001b[43mPrint\u001b[49m(\u001b[38;5;124m'\u001b[39m\u001b[38;5;124mI am learning\u001b[39m\u001b[38;5;124m'\u001b[39m,Course,\u001b[38;5;124m'\u001b[39m\u001b[38;5;124mfrom\u001b[39m\u001b[38;5;124m'\u001b[39m,Place,\u001b[38;5;124m'\u001b[39m\u001b[38;5;124min\u001b[39m\u001b[38;5;124m'\u001b[39m,mode)\n",
      "\u001b[1;31mNameError\u001b[0m: name 'Print' is not defined"
     ]
    }
   ],
   "source": [
    "Print('I am learning',Course,'from',Place,'in',mode)"
   ]
  },
  {
   "cell_type": "code",
   "execution_count": 22,
   "id": "c4830686",
   "metadata": {},
   "outputs": [
    {
     "ename": "NameError",
     "evalue": "name 'mode' is not defined",
     "output_type": "error",
     "traceback": [
      "\u001b[1;31m---------------------------------------------------------------------------\u001b[0m",
      "\u001b[1;31mNameError\u001b[0m                                 Traceback (most recent call last)",
      "Cell \u001b[1;32mIn[22], line 1\u001b[0m\n\u001b[1;32m----> 1\u001b[0m \u001b[38;5;28mprint\u001b[39m(\u001b[38;5;124m'\u001b[39m\u001b[38;5;124mI am learning\u001b[39m\u001b[38;5;124m'\u001b[39m,Course,\u001b[38;5;124m'\u001b[39m\u001b[38;5;124mfrom\u001b[39m\u001b[38;5;124m'\u001b[39m,Place,\u001b[38;5;124m'\u001b[39m\u001b[38;5;124min\u001b[39m\u001b[38;5;124m'\u001b[39m,\u001b[43mmode\u001b[49m)\n",
      "\u001b[1;31mNameError\u001b[0m: name 'mode' is not defined"
     ]
    }
   ],
   "source": [
    "print('I am learning',Course,'from',Place,'in',mode)"
   ]
  },
  {
   "cell_type": "code",
   "execution_count": 23,
   "id": "41392801",
   "metadata": {},
   "outputs": [
    {
     "ename": "NameError",
     "evalue": "name 'Print' is not defined",
     "output_type": "error",
     "traceback": [
      "\u001b[1;31m---------------------------------------------------------------------------\u001b[0m",
      "\u001b[1;31mNameError\u001b[0m                                 Traceback (most recent call last)",
      "Cell \u001b[1;32mIn[23], line 5\u001b[0m\n\u001b[0;32m      2\u001b[0m Place \u001b[38;5;241m=\u001b[39m \u001b[38;5;124m'\u001b[39m\u001b[38;5;124mTop mentor\u001b[39m\u001b[38;5;124m'\u001b[39m\n\u001b[0;32m      3\u001b[0m Mode \u001b[38;5;241m=\u001b[39m \u001b[38;5;124m'\u001b[39m\u001b[38;5;124monline\u001b[39m\u001b[38;5;124m'\u001b[39m\n\u001b[1;32m----> 5\u001b[0m \u001b[43mPrint\u001b[49m(\u001b[38;5;124m'\u001b[39m\u001b[38;5;124mI am learning\u001b[39m\u001b[38;5;124m'\u001b[39m,Course,\u001b[38;5;124m'\u001b[39m\u001b[38;5;124mfrom\u001b[39m\u001b[38;5;124m'\u001b[39m,Place,\u001b[38;5;124m'\u001b[39m\u001b[38;5;124min\u001b[39m\u001b[38;5;124m'\u001b[39m,mode)\n",
      "\u001b[1;31mNameError\u001b[0m: name 'Print' is not defined"
     ]
    }
   ],
   "source": [
    "Course = 'Data science'\n",
    "Place = 'Top mentor'\n",
    "Mode = 'online'\n",
    "\n",
    "Print('I am learning',Course,'from',Place,'in',mode)"
   ]
  },
  {
   "cell_type": "code",
   "execution_count": 24,
   "id": "896b20b2",
   "metadata": {},
   "outputs": [],
   "source": [
    "Course = 'Data science'\n",
    "Place = 'Top mentor'\n",
    "Mode = 'online'"
   ]
  },
  {
   "cell_type": "code",
   "execution_count": 25,
   "id": "23071d6a",
   "metadata": {},
   "outputs": [
    {
     "ename": "SyntaxError",
     "evalue": "unterminated string literal (detected at line 1) (1713465538.py, line 1)",
     "output_type": "error",
     "traceback": [
      "\u001b[1;36m  Cell \u001b[1;32mIn[25], line 1\u001b[1;36m\u001b[0m\n\u001b[1;33m    Print(I am learning',Course,'from',Place,'in',mode)\u001b[0m\n\u001b[1;37m                                                ^\u001b[0m\n\u001b[1;31mSyntaxError\u001b[0m\u001b[1;31m:\u001b[0m unterminated string literal (detected at line 1)\n"
     ]
    }
   ],
   "source": [
    "Print(I am learning',Course,'from',Place,'in',mode)"
   ]
  },
  {
   "cell_type": "code",
   "execution_count": 27,
   "id": "8d3037ed",
   "metadata": {},
   "outputs": [
    {
     "name": "stdout",
     "output_type": "stream",
     "text": [
      "i am learning Data science from Top mentor in online\n"
     ]
    }
   ],
   "source": [
    "Course='Data science'\n",
    "Place='Top mentor'\n",
    "mode='online'\n",
    "\n",
    "print('i am learning',Course,'from',Place,'in',mode)"
   ]
  },
  {
   "cell_type": "code",
   "execution_count": 30,
   "id": "6ec97429",
   "metadata": {},
   "outputs": [
    {
     "name": "stdout",
     "output_type": "stream",
     "text": [
      "my age isthrity one\n"
     ]
    }
   ],
   "source": [
    "age='thrity one'\n",
    "print('my age is'+age)"
   ]
  },
  {
   "cell_type": "code",
   "execution_count": 31,
   "id": "a48a9974",
   "metadata": {},
   "outputs": [],
   "source": [
    "a=50"
   ]
  },
  {
   "cell_type": "code",
   "execution_count": 32,
   "id": "1b4b1a25",
   "metadata": {},
   "outputs": [
    {
     "data": {
      "text/plain": [
       "int"
      ]
     },
     "execution_count": 32,
     "metadata": {},
     "output_type": "execute_result"
    }
   ],
   "source": [
    "type(a)"
   ]
  },
  {
   "cell_type": "code",
   "execution_count": 33,
   "id": "29eec889",
   "metadata": {},
   "outputs": [],
   "source": [
    "b=float(a)"
   ]
  },
  {
   "cell_type": "code",
   "execution_count": 34,
   "id": "a53fa30d",
   "metadata": {},
   "outputs": [
    {
     "name": "stdout",
     "output_type": "stream",
     "text": [
      "50.0\n"
     ]
    }
   ],
   "source": [
    "print(b)"
   ]
  },
  {
   "cell_type": "code",
   "execution_count": 35,
   "id": "e2957959",
   "metadata": {},
   "outputs": [],
   "source": [
    "a=55.5"
   ]
  },
  {
   "cell_type": "code",
   "execution_count": 36,
   "id": "73ee83ca",
   "metadata": {},
   "outputs": [
    {
     "data": {
      "text/plain": [
       "float"
      ]
     },
     "execution_count": 36,
     "metadata": {},
     "output_type": "execute_result"
    }
   ],
   "source": [
    "type(a)"
   ]
  },
  {
   "cell_type": "code",
   "execution_count": 37,
   "id": "80620673",
   "metadata": {},
   "outputs": [],
   "source": [
    "c=int(a)"
   ]
  },
  {
   "cell_type": "code",
   "execution_count": 38,
   "id": "fb910a1e",
   "metadata": {},
   "outputs": [
    {
     "name": "stdout",
     "output_type": "stream",
     "text": [
      "55\n"
     ]
    }
   ],
   "source": [
    "print(c)"
   ]
  },
  {
   "cell_type": "code",
   "execution_count": 2,
   "id": "e6feab32",
   "metadata": {
    "scrolled": true
   },
   "outputs": [
    {
     "name": "stdout",
     "output_type": "stream",
     "text": [
      "i got  102.2 Rs salary and learning a course in  udemy which charges 20 rs per day\n"
     ]
    }
   ],
   "source": [
    "salary=  102.2\n",
    "Spend=20\n",
    "course='udemy'\n",
    "\n",
    "# I Got 102.2 Rs salary and learning a course in Udemy which charges 20 rs per day\n",
    "\n",
    "print('i got ',salary,'Rs salary and learning a course in ',course,'which charges',Spend,'rs per day')"
   ]
  },
  {
   "cell_type": "raw",
   "id": "65370bcd",
   "metadata": {},
   "source": [
    "print('i got',salary)"
   ]
  },
  {
   "cell_type": "code",
   "execution_count": 7,
   "id": "7c5f8666",
   "metadata": {},
   "outputs": [
    {
     "name": "stdout",
     "output_type": "stream",
     "text": [
      "i got 102.2 Rs salary  and learning a course in udemy which charges 20 rs per day\n"
     ]
    }
   ],
   "source": [
    "salary=  102.2\n",
    "Spend=20\n",
    "course='udemy'\n",
    "\n",
    "# I Got 102.2 Rs salary and learning a course in Udemy which charges 20 rs per day\n",
    "\n",
    "print('i got '+str(salary)+' '+'Rs'+' '+'salary'+' '+' '+'and'+' '+'learning a course in '+course+' '+'which charges '+str(Spend)+' '+'rs per day')"
   ]
  },
  {
   "cell_type": "code",
   "execution_count": 8,
   "id": "6d4649dc",
   "metadata": {},
   "outputs": [],
   "source": [
    "Age=12"
   ]
  },
  {
   "cell_type": "code",
   "execution_count": 13,
   "id": "131cc644",
   "metadata": {},
   "outputs": [
    {
     "name": "stdout",
     "output_type": "stream",
     "text": [
      "my age is 12\n"
     ]
    }
   ],
   "source": [
    "print(f'my age is {Age}')"
   ]
  },
  {
   "cell_type": "code",
   "execution_count": 16,
   "id": "db7b2f1b",
   "metadata": {},
   "outputs": [
    {
     "name": "stdout",
     "output_type": "stream",
     "text": [
      "i got 102.2 Rs salary and learning a course in udemy which charges 20 Rs per day\n"
     ]
    }
   ],
   "source": [
    "salary=  102.2\n",
    "Spend=20\n",
    "course='udemy'\n",
    "\n",
    "print(f'i got {salary} Rs salary and learning a course in {course} which charges {Spend} Rs per day')"
   ]
  },
  {
   "cell_type": "code",
   "execution_count": 3,
   "id": "00fabff2",
   "metadata": {},
   "outputs": [
    {
     "ename": "NameError",
     "evalue": "name 'g' is not defined",
     "output_type": "error",
     "traceback": [
      "\u001b[1;31m---------------------------------------------------------------------------\u001b[0m",
      "\u001b[1;31mNameError\u001b[0m                                 Traceback (most recent call last)",
      "Cell \u001b[1;32mIn[3], line 2\u001b[0m\n\u001b[0;32m      1\u001b[0m a\u001b[38;5;241m=\u001b[39m \u001b[38;5;124m'\u001b[39m\u001b[38;5;124mI am an engineer\u001b[39m\u001b[38;5;124m'\u001b[39m\n\u001b[1;32m----> 2\u001b[0m a\u001b[38;5;241m.\u001b[39mindex(\u001b[43mg\u001b[49m)\n",
      "\u001b[1;31mNameError\u001b[0m: name 'g' is not defined"
     ]
    }
   ],
   "source": [
    "a= 'I am an engineer'\n",
    "a.index(g)"
   ]
  },
  {
   "cell_type": "code",
   "execution_count": 2,
   "id": "d2c91f11",
   "metadata": {},
   "outputs": [
    {
     "ename": "NameError",
     "evalue": "name 'g' is not defined",
     "output_type": "error",
     "traceback": [
      "\u001b[1;31m---------------------------------------------------------------------------\u001b[0m",
      "\u001b[1;31mNameError\u001b[0m                                 Traceback (most recent call last)",
      "Cell \u001b[1;32mIn[2], line 1\u001b[0m\n\u001b[1;32m----> 1\u001b[0m a\u001b[38;5;241m.\u001b[39mindex(\u001b[43mg\u001b[49m)\n",
      "\u001b[1;31mNameError\u001b[0m: name 'g' is not defined"
     ]
    }
   ],
   "source": [
    "a.index(g)"
   ]
  },
  {
   "cell_type": "code",
   "execution_count": 5,
   "id": "a4bfe8f0",
   "metadata": {},
   "outputs": [
    {
     "data": {
      "text/plain": [
       "10"
      ]
     },
     "execution_count": 5,
     "metadata": {},
     "output_type": "execute_result"
    }
   ],
   "source": [
    "a= 'I am an engineer'\n",
    "a.index('g')"
   ]
  },
  {
   "cell_type": "code",
   "execution_count": 6,
   "id": "da28e635",
   "metadata": {},
   "outputs": [
    {
     "data": {
      "text/plain": [
       "'I am an ingineer'"
      ]
     },
     "execution_count": 6,
     "metadata": {},
     "output_type": "execute_result"
    }
   ],
   "source": [
    "a= 'I am an engineer'\n",
    "a.replace('e','i',1)"
   ]
  },
  {
   "cell_type": "code",
   "execution_count": 6,
   "id": "7da5d78e",
   "metadata": {},
   "outputs": [
    {
     "name": "stdout",
     "output_type": "stream",
     "text": [
      "[1, 2, 3, 4, 5, 6, 5, 6, 6, 6]\n"
     ]
    }
   ],
   "source": [
    "a=[1,2,3,4,5,6,5,6,6,6]\n",
    "\n",
    "\n",
    "\n",
    "a.count(5)\n",
    "\n",
    "print(a)"
   ]
  },
  {
   "cell_type": "code",
   "execution_count": 8,
   "id": "cecbcdcd",
   "metadata": {},
   "outputs": [
    {
     "name": "stdout",
     "output_type": "stream",
     "text": [
      "[1, 2, 3, 4, 5, 6, 5, 6, 6, 6, 'man', 'made', 'material']\n"
     ]
    }
   ],
   "source": [
    "a.extend(['man','made','material'])\n",
    "\n",
    "print(a)"
   ]
  },
  {
   "cell_type": "code",
   "execution_count": 9,
   "id": "897a8289",
   "metadata": {},
   "outputs": [
    {
     "data": {
      "text/plain": [
       "'material'"
      ]
     },
     "execution_count": 9,
     "metadata": {},
     "output_type": "execute_result"
    }
   ],
   "source": [
    "a.pop()"
   ]
  },
  {
   "cell_type": "code",
   "execution_count": 10,
   "id": "82614b51",
   "metadata": {},
   "outputs": [
    {
     "name": "stdout",
     "output_type": "stream",
     "text": [
      "[1, 2, 3, 4, 5, 6, 5, 6, 6, 6, 'man', 'made']\n"
     ]
    }
   ],
   "source": [
    "print(a)"
   ]
  },
  {
   "cell_type": "code",
   "execution_count": null,
   "id": "11edfcdc",
   "metadata": {},
   "outputs": [],
   "source": []
  },
  {
   "cell_type": "code",
   "execution_count": 11,
   "id": "0362172e",
   "metadata": {},
   "outputs": [],
   "source": [
    "### hsuui"
   ]
  },
  {
   "cell_type": "code",
   "execution_count": 12,
   "id": "fecadff0",
   "metadata": {},
   "outputs": [
    {
     "data": {
      "text/plain": [
       "['I', 'worked', 'in', 'OPPO', 'for', '5', 'years']"
      ]
     },
     "execution_count": 12,
     "metadata": {},
     "output_type": "execute_result"
    }
   ],
   "source": [
    "a=('I worked in OPPO for 5 years')\n",
    "a.split()"
   ]
  },
  {
   "cell_type": "code",
   "execution_count": 1,
   "id": "46ee86c7",
   "metadata": {},
   "outputs": [
    {
     "ename": "SyntaxError",
     "evalue": "unterminated string literal (detected at line 1) (3876582923.py, line 1)",
     "output_type": "error",
     "traceback": [
      "\u001b[1;36m  Cell \u001b[1;32mIn[1], line 1\u001b[1;36m\u001b[0m\n\u001b[1;33m    a = ['I', 'worked', 'in', 'OPPO', 'for', '5', 'years]\u001b[0m\n\u001b[1;37m                                                  ^\u001b[0m\n\u001b[1;31mSyntaxError\u001b[0m\u001b[1;31m:\u001b[0m unterminated string literal (detected at line 1)\n"
     ]
    }
   ],
   "source": [
    "a = ['I', 'worked', 'in', 'OPPO', 'for', '5', 'years]\n",
    "     join(a)"
   ]
  },
  {
   "cell_type": "code",
   "execution_count": 2,
   "id": "1ad847e0",
   "metadata": {},
   "outputs": [
    {
     "ename": "NameError",
     "evalue": "name 'join' is not defined",
     "output_type": "error",
     "traceback": [
      "\u001b[1;31m---------------------------------------------------------------------------\u001b[0m",
      "\u001b[1;31mNameError\u001b[0m                                 Traceback (most recent call last)",
      "Cell \u001b[1;32mIn[2], line 1\u001b[0m\n\u001b[1;32m----> 1\u001b[0m b \u001b[38;5;241m=\u001b[39m \u001b[43mjoin\u001b[49m(a)\n",
      "\u001b[1;31mNameError\u001b[0m: name 'join' is not defined"
     ]
    }
   ],
   "source": [
    "b = join(a)"
   ]
  },
  {
   "cell_type": "code",
   "execution_count": 4,
   "id": "d54bce29",
   "metadata": {},
   "outputs": [
    {
     "ename": "NameError",
     "evalue": "name 'a' is not defined",
     "output_type": "error",
     "traceback": [
      "\u001b[1;31m---------------------------------------------------------------------------\u001b[0m",
      "\u001b[1;31mNameError\u001b[0m                                 Traceback (most recent call last)",
      "Cell \u001b[1;32mIn[4], line 1\u001b[0m\n\u001b[1;32m----> 1\u001b[0m b\u001b[38;5;241m=\u001b[39m\u001b[38;5;124m'\u001b[39m\u001b[38;5;124m \u001b[39m\u001b[38;5;124m'\u001b[39m\u001b[38;5;241m.\u001b[39mjoin(\u001b[43ma\u001b[49m)\n",
      "\u001b[1;31mNameError\u001b[0m: name 'a' is not defined"
     ]
    }
   ],
   "source": [
    "b=' '.join(a)"
   ]
  },
  {
   "cell_type": "code",
   "execution_count": 8,
   "id": "03575a9e",
   "metadata": {},
   "outputs": [
    {
     "ename": "SyntaxError",
     "evalue": "unterminated string literal (detected at line 1) (1936912787.py, line 1)",
     "output_type": "error",
     "traceback": [
      "\u001b[1;36m  Cell \u001b[1;32mIn[8], line 1\u001b[1;36m\u001b[0m\n\u001b[1;33m    a = ['I', 'worked', 'in', 'OPPO', 'for', '5', 'years]\u001b[0m\n\u001b[1;37m                                                  ^\u001b[0m\n\u001b[1;31mSyntaxError\u001b[0m\u001b[1;31m:\u001b[0m unterminated string literal (detected at line 1)\n"
     ]
    }
   ],
   "source": []
  },
  {
   "cell_type": "code",
   "execution_count": 10,
   "id": "63fa54d4",
   "metadata": {},
   "outputs": [
    {
     "ename": "SyntaxError",
     "evalue": "unterminated string literal (detected at line 1) (2259896546.py, line 1)",
     "output_type": "error",
     "traceback": [
      "\u001b[1;36m  Cell \u001b[1;32mIn[10], line 1\u001b[1;36m\u001b[0m\n\u001b[1;33m    a = ['I', 'worked', 'in', 'OPPO', 'for', 'five', 'years]\u001b[0m\n\u001b[1;37m                                                     ^\u001b[0m\n\u001b[1;31mSyntaxError\u001b[0m\u001b[1;31m:\u001b[0m unterminated string literal (detected at line 1)\n"
     ]
    }
   ],
   "source": [
    "a = ['I', 'worked', 'in', 'OPPO', 'for', 'five', 'years]\n",
    "     b=' '.join(a)\n",
    "     print(b)"
   ]
  },
  {
   "cell_type": "code",
   "execution_count": 15,
   "id": "889c4a24",
   "metadata": {},
   "outputs": [
    {
     "name": "stdout",
     "output_type": "stream",
     "text": [
      "I worked in OPPO for 5 years\n"
     ]
    }
   ],
   "source": [
    "a = ['I', 'worked', 'in', 'OPPO', 'for', '5', 'years']\n",
    "b=' '.join(a)\n",
    "print(b)"
   ]
  },
  {
   "cell_type": "code",
   "execution_count": null,
   "id": "06051469",
   "metadata": {},
   "outputs": [],
   "source": [
    "Value = 'language.programming.love.i'"
   ]
  },
  {
   "cell_type": "code",
   "execution_count": 18,
   "id": "032bedca",
   "metadata": {},
   "outputs": [
    {
     "ename": "NameError",
     "evalue": "name 'Value' is not defined",
     "output_type": "error",
     "traceback": [
      "\u001b[1;31m---------------------------------------------------------------------------\u001b[0m",
      "\u001b[1;31mNameError\u001b[0m                                 Traceback (most recent call last)",
      "Cell \u001b[1;32mIn[18], line 1\u001b[0m\n\u001b[1;32m----> 1\u001b[0m \u001b[43mValue\u001b[49m\u001b[38;5;241m.\u001b[39mreverse()\n",
      "\u001b[1;31mNameError\u001b[0m: name 'Value' is not defined"
     ]
    }
   ],
   "source": [
    "Value.reverse()"
   ]
  },
  {
   "cell_type": "code",
   "execution_count": 19,
   "id": "4f265221",
   "metadata": {},
   "outputs": [
    {
     "ename": "SyntaxError",
     "evalue": "invalid syntax (3196000986.py, line 1)",
     "output_type": "error",
     "traceback": [
      "\u001b[1;36m  Cell \u001b[1;32mIn[19], line 1\u001b[1;36m\u001b[0m\n\u001b[1;33m    value.index(::-1)\u001b[0m\n\u001b[1;37m                ^\u001b[0m\n\u001b[1;31mSyntaxError\u001b[0m\u001b[1;31m:\u001b[0m invalid syntax\n"
     ]
    }
   ],
   "source": [
    "value.index(::-1)"
   ]
  },
  {
   "cell_type": "code",
   "execution_count": 25,
   "id": "02dea5bb",
   "metadata": {},
   "outputs": [
    {
     "ename": "SyntaxError",
     "evalue": "invalid syntax (2098738219.py, line 3)",
     "output_type": "error",
     "traceback": [
      "\u001b[1;36m  Cell \u001b[1;32mIn[25], line 3\u001b[1;36m\u001b[0m\n\u001b[1;33m    a= Value(::-1)\u001b[0m\n\u001b[1;37m             ^\u001b[0m\n\u001b[1;31mSyntaxError\u001b[0m\u001b[1;31m:\u001b[0m invalid syntax\n"
     ]
    }
   ],
   "source": [
    "Value = 'language.programming.love.i'\n",
    "\n",
    "a= Value(::-1)\n",
    "print(a)"
   ]
  },
  {
   "cell_type": "code",
   "execution_count": null,
   "id": "324b49ff",
   "metadata": {},
   "outputs": [],
   "source": []
  }
 ],
 "metadata": {
  "kernelspec": {
   "display_name": "Python 3 (ipykernel)",
   "language": "python",
   "name": "python3"
  },
  "language_info": {
   "codemirror_mode": {
    "name": "ipython",
    "version": 3
   },
   "file_extension": ".py",
   "mimetype": "text/x-python",
   "name": "python",
   "nbconvert_exporter": "python",
   "pygments_lexer": "ipython3",
   "version": "3.10.9"
  }
 },
 "nbformat": 4,
 "nbformat_minor": 5
}
